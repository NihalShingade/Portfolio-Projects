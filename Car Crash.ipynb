{
 "cells": [
  {
   "cell_type": "markdown",
   "id": "80c1f4ed",
   "metadata": {},
   "source": [
    "# Import Libraries"
   ]
  },
  {
   "cell_type": "code",
   "execution_count": 2,
   "id": "b18fda9f",
   "metadata": {},
   "outputs": [],
   "source": [
    "import numpy as np\n",
    "import pandas as pd"
   ]
  },
  {
   "cell_type": "code",
   "execution_count": 13,
   "id": "aada88ee",
   "metadata": {},
   "outputs": [
    {
     "data": {
      "text/html": [
       "<div>\n",
       "<style scoped>\n",
       "    .dataframe tbody tr th:only-of-type {\n",
       "        vertical-align: middle;\n",
       "    }\n",
       "\n",
       "    .dataframe tbody tr th {\n",
       "        vertical-align: top;\n",
       "    }\n",
       "\n",
       "    .dataframe thead th {\n",
       "        text-align: right;\n",
       "    }\n",
       "</style>\n",
       "<table border=\"1\" class=\"dataframe\">\n",
       "  <thead>\n",
       "    <tr style=\"text-align: right;\">\n",
       "      <th></th>\n",
       "      <th>dvcat</th>\n",
       "      <th>weight</th>\n",
       "      <th>dead</th>\n",
       "      <th>airbag</th>\n",
       "      <th>seatbelt</th>\n",
       "      <th>frontal</th>\n",
       "      <th>sex</th>\n",
       "      <th>ageOFocc</th>\n",
       "      <th>yearacc</th>\n",
       "      <th>yearVeh</th>\n",
       "      <th>abcat</th>\n",
       "      <th>occRole</th>\n",
       "      <th>deploy</th>\n",
       "      <th>caseid</th>\n",
       "      <th>injSeverity</th>\n",
       "    </tr>\n",
       "  </thead>\n",
       "  <tbody>\n",
       "    <tr>\n",
       "      <th>0</th>\n",
       "      <td>55+</td>\n",
       "      <td>53.342</td>\n",
       "      <td>dead</td>\n",
       "      <td>airbag</td>\n",
       "      <td>belted</td>\n",
       "      <td>1</td>\n",
       "      <td>f</td>\n",
       "      <td>48</td>\n",
       "      <td>2002</td>\n",
       "      <td>1997</td>\n",
       "      <td>deploy</td>\n",
       "      <td>driver</td>\n",
       "      <td>1</td>\n",
       "      <td>45:150:1</td>\n",
       "      <td>3</td>\n",
       "    </tr>\n",
       "    <tr>\n",
       "      <th>1</th>\n",
       "      <td>25-39</td>\n",
       "      <td>154.960</td>\n",
       "      <td>alive</td>\n",
       "      <td>none</td>\n",
       "      <td>none</td>\n",
       "      <td>1</td>\n",
       "      <td>m</td>\n",
       "      <td>26</td>\n",
       "      <td>2001</td>\n",
       "      <td>1968</td>\n",
       "      <td>unavail</td>\n",
       "      <td>driver</td>\n",
       "      <td>0</td>\n",
       "      <td>76:40:1</td>\n",
       "      <td>3</td>\n",
       "    </tr>\n",
       "    <tr>\n",
       "      <th>2</th>\n",
       "      <td>55+</td>\n",
       "      <td>38.994</td>\n",
       "      <td>alive</td>\n",
       "      <td>none</td>\n",
       "      <td>none</td>\n",
       "      <td>1</td>\n",
       "      <td>f</td>\n",
       "      <td>51</td>\n",
       "      <td>2002</td>\n",
       "      <td>1994</td>\n",
       "      <td>unavail</td>\n",
       "      <td>driver</td>\n",
       "      <td>0</td>\n",
       "      <td>11:184:1</td>\n",
       "      <td>3</td>\n",
       "    </tr>\n",
       "    <tr>\n",
       "      <th>3</th>\n",
       "      <td>25-39</td>\n",
       "      <td>168.568</td>\n",
       "      <td>alive</td>\n",
       "      <td>airbag</td>\n",
       "      <td>belted</td>\n",
       "      <td>1</td>\n",
       "      <td>m</td>\n",
       "      <td>27</td>\n",
       "      <td>1998</td>\n",
       "      <td>1996</td>\n",
       "      <td>deploy</td>\n",
       "      <td>pass</td>\n",
       "      <td>1</td>\n",
       "      <td>9:17:1</td>\n",
       "      <td>3</td>\n",
       "    </tr>\n",
       "    <tr>\n",
       "      <th>4</th>\n",
       "      <td>10-24</td>\n",
       "      <td>27.751</td>\n",
       "      <td>alive</td>\n",
       "      <td>airbag</td>\n",
       "      <td>belted</td>\n",
       "      <td>0</td>\n",
       "      <td>m</td>\n",
       "      <td>26</td>\n",
       "      <td>2002</td>\n",
       "      <td>1997</td>\n",
       "      <td>nodeploy</td>\n",
       "      <td>pass</td>\n",
       "      <td>0</td>\n",
       "      <td>2:2:2</td>\n",
       "      <td>0</td>\n",
       "    </tr>\n",
       "  </tbody>\n",
       "</table>\n",
       "</div>"
      ],
      "text/plain": [
       "   dvcat   weight   dead  airbag seatbelt  frontal sex  ageOFocc  yearacc  \\\n",
       "0    55+   53.342   dead  airbag   belted        1   f        48     2002   \n",
       "1  25-39  154.960  alive    none     none        1   m        26     2001   \n",
       "2    55+   38.994  alive    none     none        1   f        51     2002   \n",
       "3  25-39  168.568  alive  airbag   belted        1   m        27     1998   \n",
       "4  10-24   27.751  alive  airbag   belted        0   m        26     2002   \n",
       "\n",
       "   yearVeh     abcat occRole  deploy    caseid  injSeverity  \n",
       "0     1997    deploy  driver       1  45:150:1            3  \n",
       "1     1968   unavail  driver       0   76:40:1            3  \n",
       "2     1994   unavail  driver       0  11:184:1            3  \n",
       "3     1996    deploy    pass       1    9:17:1            3  \n",
       "4     1997  nodeploy    pass       0     2:2:2            0  "
      ]
     },
     "execution_count": 13,
     "metadata": {},
     "output_type": "execute_result"
    }
   ],
   "source": [
    "car_df = pd.read_csv(r\"C:\\Users\\Nihal\\Downloads\\Documents\\Dataset\\Car Crash Data\\train-new.csv\")\n",
    "car_df.head()"
   ]
  },
  {
   "cell_type": "code",
   "execution_count": 14,
   "id": "41e39f01",
   "metadata": {},
   "outputs": [
    {
     "name": "stdout",
     "output_type": "stream",
     "text": [
      "<class 'pandas.core.frame.DataFrame'>\n",
      "RangeIndex: 17565 entries, 0 to 17564\n",
      "Data columns (total 15 columns):\n",
      " #   Column       Non-Null Count  Dtype  \n",
      "---  ------       --------------  -----  \n",
      " 0   dvcat        17565 non-null  object \n",
      " 1   weight       17565 non-null  float64\n",
      " 2   dead         17565 non-null  object \n",
      " 3   airbag       17565 non-null  object \n",
      " 4   seatbelt     17565 non-null  object \n",
      " 5   frontal      17565 non-null  int64  \n",
      " 6   sex          17565 non-null  object \n",
      " 7   ageOFocc     17565 non-null  int64  \n",
      " 8   yearacc      17565 non-null  int64  \n",
      " 9   yearVeh      17565 non-null  int64  \n",
      " 10  abcat        17565 non-null  object \n",
      " 11  occRole      17565 non-null  object \n",
      " 12  deploy       17565 non-null  int64  \n",
      " 13  caseid       17565 non-null  object \n",
      " 14  injSeverity  17565 non-null  int64  \n",
      "dtypes: float64(1), int64(6), object(8)\n",
      "memory usage: 2.0+ MB\n"
     ]
    }
   ],
   "source": [
    "car_df.info()"
   ]
  },
  {
   "cell_type": "code",
   "execution_count": 15,
   "id": "0857327b",
   "metadata": {},
   "outputs": [
    {
     "data": {
      "text/plain": [
       "(17565, 15)"
      ]
     },
     "execution_count": 15,
     "metadata": {},
     "output_type": "execute_result"
    }
   ],
   "source": [
    "car_df.shape"
   ]
  },
  {
   "cell_type": "code",
   "execution_count": 16,
   "id": "47efa600",
   "metadata": {},
   "outputs": [
    {
     "data": {
      "text/plain": [
       "dvcat          0\n",
       "weight         0\n",
       "dead           0\n",
       "airbag         0\n",
       "seatbelt       0\n",
       "frontal        0\n",
       "sex            0\n",
       "ageOFocc       0\n",
       "yearacc        0\n",
       "yearVeh        0\n",
       "abcat          0\n",
       "occRole        0\n",
       "deploy         0\n",
       "caseid         0\n",
       "injSeverity    0\n",
       "dtype: int64"
      ]
     },
     "execution_count": 16,
     "metadata": {},
     "output_type": "execute_result"
    }
   ],
   "source": [
    "car_df.isna().sum()     # To know the how many null values in our data set"
   ]
  },
  {
   "cell_type": "code",
   "execution_count": 17,
   "id": "d78fca1f",
   "metadata": {},
   "outputs": [
    {
     "data": {
      "text/html": [
       "<div>\n",
       "<style scoped>\n",
       "    .dataframe tbody tr th:only-of-type {\n",
       "        vertical-align: middle;\n",
       "    }\n",
       "\n",
       "    .dataframe tbody tr th {\n",
       "        vertical-align: top;\n",
       "    }\n",
       "\n",
       "    .dataframe thead th {\n",
       "        text-align: right;\n",
       "    }\n",
       "</style>\n",
       "<table border=\"1\" class=\"dataframe\">\n",
       "  <thead>\n",
       "    <tr style=\"text-align: right;\">\n",
       "      <th></th>\n",
       "      <th>dvcat</th>\n",
       "      <th>weight</th>\n",
       "      <th>dead</th>\n",
       "      <th>airbag</th>\n",
       "      <th>seatbelt</th>\n",
       "      <th>frontal</th>\n",
       "      <th>sex</th>\n",
       "      <th>ageOFocc</th>\n",
       "      <th>yearacc</th>\n",
       "      <th>yearVeh</th>\n",
       "      <th>abcat</th>\n",
       "      <th>occRole</th>\n",
       "      <th>deploy</th>\n",
       "      <th>caseid</th>\n",
       "      <th>injSeverity</th>\n",
       "    </tr>\n",
       "  </thead>\n",
       "  <tbody>\n",
       "    <tr>\n",
       "      <th>count</th>\n",
       "      <td>17565</td>\n",
       "      <td>17565.000000</td>\n",
       "      <td>17565</td>\n",
       "      <td>17565</td>\n",
       "      <td>17565</td>\n",
       "      <td>17565.000000</td>\n",
       "      <td>17565</td>\n",
       "      <td>17565.000000</td>\n",
       "      <td>17565.000000</td>\n",
       "      <td>17565.000000</td>\n",
       "      <td>17565</td>\n",
       "      <td>17565</td>\n",
       "      <td>17565.000000</td>\n",
       "      <td>17565</td>\n",
       "      <td>17565.000000</td>\n",
       "    </tr>\n",
       "    <tr>\n",
       "      <th>unique</th>\n",
       "      <td>5</td>\n",
       "      <td>NaN</td>\n",
       "      <td>2</td>\n",
       "      <td>2</td>\n",
       "      <td>2</td>\n",
       "      <td>NaN</td>\n",
       "      <td>2</td>\n",
       "      <td>NaN</td>\n",
       "      <td>NaN</td>\n",
       "      <td>NaN</td>\n",
       "      <td>3</td>\n",
       "      <td>2</td>\n",
       "      <td>NaN</td>\n",
       "      <td>8236</td>\n",
       "      <td>NaN</td>\n",
       "    </tr>\n",
       "    <tr>\n",
       "      <th>top</th>\n",
       "      <td>10-24</td>\n",
       "      <td>NaN</td>\n",
       "      <td>alive</td>\n",
       "      <td>airbag</td>\n",
       "      <td>belted</td>\n",
       "      <td>NaN</td>\n",
       "      <td>m</td>\n",
       "      <td>NaN</td>\n",
       "      <td>NaN</td>\n",
       "      <td>NaN</td>\n",
       "      <td>unavail</td>\n",
       "      <td>driver</td>\n",
       "      <td>NaN</td>\n",
       "      <td>12:19:1</td>\n",
       "      <td>NaN</td>\n",
       "    </tr>\n",
       "    <tr>\n",
       "      <th>freq</th>\n",
       "      <td>8645</td>\n",
       "      <td>NaN</td>\n",
       "      <td>16788</td>\n",
       "      <td>9724</td>\n",
       "      <td>12459</td>\n",
       "      <td>NaN</td>\n",
       "      <td>9337</td>\n",
       "      <td>NaN</td>\n",
       "      <td>NaN</td>\n",
       "      <td>NaN</td>\n",
       "      <td>7841</td>\n",
       "      <td>13802</td>\n",
       "      <td>NaN</td>\n",
       "      <td>8</td>\n",
       "      <td>NaN</td>\n",
       "    </tr>\n",
       "    <tr>\n",
       "      <th>mean</th>\n",
       "      <td>NaN</td>\n",
       "      <td>458.763017</td>\n",
       "      <td>NaN</td>\n",
       "      <td>NaN</td>\n",
       "      <td>NaN</td>\n",
       "      <td>0.643439</td>\n",
       "      <td>NaN</td>\n",
       "      <td>37.212411</td>\n",
       "      <td>1999.558497</td>\n",
       "      <td>1992.843894</td>\n",
       "      <td>NaN</td>\n",
       "      <td>NaN</td>\n",
       "      <td>0.340165</td>\n",
       "      <td>NaN</td>\n",
       "      <td>1.713066</td>\n",
       "    </tr>\n",
       "    <tr>\n",
       "      <th>std</th>\n",
       "      <td>NaN</td>\n",
       "      <td>1471.148421</td>\n",
       "      <td>NaN</td>\n",
       "      <td>NaN</td>\n",
       "      <td>NaN</td>\n",
       "      <td>0.478997</td>\n",
       "      <td>NaN</td>\n",
       "      <td>17.945232</td>\n",
       "      <td>1.702162</td>\n",
       "      <td>5.568838</td>\n",
       "      <td>NaN</td>\n",
       "      <td>NaN</td>\n",
       "      <td>0.473778</td>\n",
       "      <td>NaN</td>\n",
       "      <td>1.290565</td>\n",
       "    </tr>\n",
       "    <tr>\n",
       "      <th>min</th>\n",
       "      <td>NaN</td>\n",
       "      <td>0.000000</td>\n",
       "      <td>NaN</td>\n",
       "      <td>NaN</td>\n",
       "      <td>NaN</td>\n",
       "      <td>0.000000</td>\n",
       "      <td>NaN</td>\n",
       "      <td>16.000000</td>\n",
       "      <td>1997.000000</td>\n",
       "      <td>1953.000000</td>\n",
       "      <td>NaN</td>\n",
       "      <td>NaN</td>\n",
       "      <td>0.000000</td>\n",
       "      <td>NaN</td>\n",
       "      <td>0.000000</td>\n",
       "    </tr>\n",
       "    <tr>\n",
       "      <th>25%</th>\n",
       "      <td>NaN</td>\n",
       "      <td>32.264000</td>\n",
       "      <td>NaN</td>\n",
       "      <td>NaN</td>\n",
       "      <td>NaN</td>\n",
       "      <td>0.000000</td>\n",
       "      <td>NaN</td>\n",
       "      <td>22.000000</td>\n",
       "      <td>1998.000000</td>\n",
       "      <td>1989.000000</td>\n",
       "      <td>NaN</td>\n",
       "      <td>NaN</td>\n",
       "      <td>0.000000</td>\n",
       "      <td>NaN</td>\n",
       "      <td>1.000000</td>\n",
       "    </tr>\n",
       "    <tr>\n",
       "      <th>50%</th>\n",
       "      <td>NaN</td>\n",
       "      <td>86.986000</td>\n",
       "      <td>NaN</td>\n",
       "      <td>NaN</td>\n",
       "      <td>NaN</td>\n",
       "      <td>1.000000</td>\n",
       "      <td>NaN</td>\n",
       "      <td>33.000000</td>\n",
       "      <td>2000.000000</td>\n",
       "      <td>1994.000000</td>\n",
       "      <td>NaN</td>\n",
       "      <td>NaN</td>\n",
       "      <td>0.000000</td>\n",
       "      <td>NaN</td>\n",
       "      <td>2.000000</td>\n",
       "    </tr>\n",
       "    <tr>\n",
       "      <th>75%</th>\n",
       "      <td>NaN</td>\n",
       "      <td>357.283000</td>\n",
       "      <td>NaN</td>\n",
       "      <td>NaN</td>\n",
       "      <td>NaN</td>\n",
       "      <td>1.000000</td>\n",
       "      <td>NaN</td>\n",
       "      <td>48.000000</td>\n",
       "      <td>2001.000000</td>\n",
       "      <td>1997.000000</td>\n",
       "      <td>NaN</td>\n",
       "      <td>NaN</td>\n",
       "      <td>1.000000</td>\n",
       "      <td>NaN</td>\n",
       "      <td>3.000000</td>\n",
       "    </tr>\n",
       "    <tr>\n",
       "      <th>max</th>\n",
       "      <td>NaN</td>\n",
       "      <td>57871.595000</td>\n",
       "      <td>NaN</td>\n",
       "      <td>NaN</td>\n",
       "      <td>NaN</td>\n",
       "      <td>1.000000</td>\n",
       "      <td>NaN</td>\n",
       "      <td>97.000000</td>\n",
       "      <td>2002.000000</td>\n",
       "      <td>2003.000000</td>\n",
       "      <td>NaN</td>\n",
       "      <td>NaN</td>\n",
       "      <td>1.000000</td>\n",
       "      <td>NaN</td>\n",
       "      <td>6.000000</td>\n",
       "    </tr>\n",
       "  </tbody>\n",
       "</table>\n",
       "</div>"
      ],
      "text/plain": [
       "        dvcat        weight   dead  airbag seatbelt       frontal    sex  \\\n",
       "count   17565  17565.000000  17565   17565    17565  17565.000000  17565   \n",
       "unique      5           NaN      2       2        2           NaN      2   \n",
       "top     10-24           NaN  alive  airbag   belted           NaN      m   \n",
       "freq     8645           NaN  16788    9724    12459           NaN   9337   \n",
       "mean      NaN    458.763017    NaN     NaN      NaN      0.643439    NaN   \n",
       "std       NaN   1471.148421    NaN     NaN      NaN      0.478997    NaN   \n",
       "min       NaN      0.000000    NaN     NaN      NaN      0.000000    NaN   \n",
       "25%       NaN     32.264000    NaN     NaN      NaN      0.000000    NaN   \n",
       "50%       NaN     86.986000    NaN     NaN      NaN      1.000000    NaN   \n",
       "75%       NaN    357.283000    NaN     NaN      NaN      1.000000    NaN   \n",
       "max       NaN  57871.595000    NaN     NaN      NaN      1.000000    NaN   \n",
       "\n",
       "            ageOFocc       yearacc       yearVeh    abcat occRole  \\\n",
       "count   17565.000000  17565.000000  17565.000000    17565   17565   \n",
       "unique           NaN           NaN           NaN        3       2   \n",
       "top              NaN           NaN           NaN  unavail  driver   \n",
       "freq             NaN           NaN           NaN     7841   13802   \n",
       "mean       37.212411   1999.558497   1992.843894      NaN     NaN   \n",
       "std        17.945232      1.702162      5.568838      NaN     NaN   \n",
       "min        16.000000   1997.000000   1953.000000      NaN     NaN   \n",
       "25%        22.000000   1998.000000   1989.000000      NaN     NaN   \n",
       "50%        33.000000   2000.000000   1994.000000      NaN     NaN   \n",
       "75%        48.000000   2001.000000   1997.000000      NaN     NaN   \n",
       "max        97.000000   2002.000000   2003.000000      NaN     NaN   \n",
       "\n",
       "              deploy   caseid   injSeverity  \n",
       "count   17565.000000    17565  17565.000000  \n",
       "unique           NaN     8236           NaN  \n",
       "top              NaN  12:19:1           NaN  \n",
       "freq             NaN        8           NaN  \n",
       "mean        0.340165      NaN      1.713066  \n",
       "std         0.473778      NaN      1.290565  \n",
       "min         0.000000      NaN      0.000000  \n",
       "25%         0.000000      NaN      1.000000  \n",
       "50%         0.000000      NaN      2.000000  \n",
       "75%         1.000000      NaN      3.000000  \n",
       "max         1.000000      NaN      6.000000  "
      ]
     },
     "execution_count": 17,
     "metadata": {},
     "output_type": "execute_result"
    }
   ],
   "source": [
    "car_df.describe(include='all')"
   ]
  },
  {
   "cell_type": "code",
   "execution_count": 18,
   "id": "1aa9e269",
   "metadata": {},
   "outputs": [
    {
     "data": {
      "text/plain": [
       "array(['55+', '25-39', '10-24', '40-54', '1-9km/h'], dtype=object)"
      ]
     },
     "execution_count": 18,
     "metadata": {},
     "output_type": "execute_result"
    }
   ],
   "source": [
    "car_df['dvcat'].unique()"
   ]
  },
  {
   "cell_type": "code",
   "execution_count": 19,
   "id": "57bc9719",
   "metadata": {},
   "outputs": [
    {
     "data": {
      "text/plain": [
       "array(['dead', 'alive'], dtype=object)"
      ]
     },
     "execution_count": 19,
     "metadata": {},
     "output_type": "execute_result"
    }
   ],
   "source": [
    "car_df['dead'].unique()"
   ]
  },
  {
   "cell_type": "code",
   "execution_count": 20,
   "id": "007bbe29",
   "metadata": {},
   "outputs": [],
   "source": [
    "car_df['dead'].replace({'alive': 1,'dead': 0}, inplace = True)"
   ]
  },
  {
   "cell_type": "code",
   "execution_count": 21,
   "id": "a0d366f4",
   "metadata": {},
   "outputs": [
    {
     "data": {
      "text/plain": [
       "array(['airbag', 'none'], dtype=object)"
      ]
     },
     "execution_count": 21,
     "metadata": {},
     "output_type": "execute_result"
    }
   ],
   "source": [
    "car_df['airbag'].unique()"
   ]
  },
  {
   "cell_type": "code",
   "execution_count": 22,
   "id": "dadf9d06",
   "metadata": {},
   "outputs": [],
   "source": [
    "car_df['airbag'].replace({'none': 1, 'airbag': 0}, inplace= True)"
   ]
  },
  {
   "cell_type": "code",
   "execution_count": 23,
   "id": "098a8952",
   "metadata": {},
   "outputs": [
    {
     "data": {
      "text/plain": [
       "array(['belted', 'none'], dtype=object)"
      ]
     },
     "execution_count": 23,
     "metadata": {},
     "output_type": "execute_result"
    }
   ],
   "source": [
    "car_df['seatbelt'].unique()"
   ]
  },
  {
   "cell_type": "code",
   "execution_count": 24,
   "id": "16f8e78c",
   "metadata": {},
   "outputs": [],
   "source": [
    "car_df['seatbelt'].replace({'none': 1, 'belted': 0}, inplace= True)"
   ]
  },
  {
   "cell_type": "code",
   "execution_count": 25,
   "id": "28dbc0bd",
   "metadata": {},
   "outputs": [
    {
     "data": {
      "text/plain": [
       "array(['f', 'm'], dtype=object)"
      ]
     },
     "execution_count": 25,
     "metadata": {},
     "output_type": "execute_result"
    }
   ],
   "source": [
    "car_df['sex'].unique()"
   ]
  },
  {
   "cell_type": "code",
   "execution_count": 26,
   "id": "4093b015",
   "metadata": {},
   "outputs": [],
   "source": [
    "car_df['sex'].replace({'m': 1, 'f': 0}, inplace= True)"
   ]
  },
  {
   "cell_type": "code",
   "execution_count": 27,
   "id": "45eaff45",
   "metadata": {},
   "outputs": [
    {
     "data": {
      "text/plain": [
       "array(['deploy', 'unavail', 'nodeploy'], dtype=object)"
      ]
     },
     "execution_count": 27,
     "metadata": {},
     "output_type": "execute_result"
    }
   ],
   "source": [
    "car_df['abcat'].unique()"
   ]
  },
  {
   "cell_type": "code",
   "execution_count": 28,
   "id": "acdb7288",
   "metadata": {},
   "outputs": [
    {
     "data": {
      "text/plain": [
       "array(['driver', 'pass'], dtype=object)"
      ]
     },
     "execution_count": 28,
     "metadata": {},
     "output_type": "execute_result"
    }
   ],
   "source": [
    "car_df['occRole'].unique()"
   ]
  },
  {
   "cell_type": "code",
   "execution_count": 29,
   "id": "9a53cd81",
   "metadata": {},
   "outputs": [],
   "source": [
    "car_df['occRole'].replace({'driver': 1, 'pass': 0}, inplace= True)"
   ]
  },
  {
   "cell_type": "code",
   "execution_count": 30,
   "id": "7e58ba76",
   "metadata": {},
   "outputs": [
    {
     "name": "stdout",
     "output_type": "stream",
     "text": [
      "<class 'pandas.core.frame.DataFrame'>\n",
      "RangeIndex: 17565 entries, 0 to 17564\n",
      "Data columns (total 15 columns):\n",
      " #   Column       Non-Null Count  Dtype  \n",
      "---  ------       --------------  -----  \n",
      " 0   dvcat        17565 non-null  object \n",
      " 1   weight       17565 non-null  float64\n",
      " 2   dead         17565 non-null  int64  \n",
      " 3   airbag       17565 non-null  int64  \n",
      " 4   seatbelt     17565 non-null  int64  \n",
      " 5   frontal      17565 non-null  int64  \n",
      " 6   sex          17565 non-null  int64  \n",
      " 7   ageOFocc     17565 non-null  int64  \n",
      " 8   yearacc      17565 non-null  int64  \n",
      " 9   yearVeh      17565 non-null  int64  \n",
      " 10  abcat        17565 non-null  object \n",
      " 11  occRole      17565 non-null  int64  \n",
      " 12  deploy       17565 non-null  int64  \n",
      " 13  caseid       17565 non-null  object \n",
      " 14  injSeverity  17565 non-null  int64  \n",
      "dtypes: float64(1), int64(11), object(3)\n",
      "memory usage: 2.0+ MB\n"
     ]
    }
   ],
   "source": [
    "car_df.info()"
   ]
  },
  {
   "cell_type": "markdown",
   "id": "71367659",
   "metadata": {},
   "source": [
    "# Label Encoding"
   ]
  },
  {
   "cell_type": "code",
   "execution_count": 31,
   "id": "2cec7772",
   "metadata": {},
   "outputs": [],
   "source": [
    "from sklearn.preprocessing import LabelEncoder"
   ]
  },
  {
   "cell_type": "code",
   "execution_count": 32,
   "id": "a92e45ac",
   "metadata": {},
   "outputs": [],
   "source": [
    "le = LabelEncoder()"
   ]
  },
  {
   "cell_type": "code",
   "execution_count": 33,
   "id": "4f96137f",
   "metadata": {},
   "outputs": [],
   "source": [
    "car_df['dvcat']=le.fit_transform(car_df['dvcat'])"
   ]
  },
  {
   "cell_type": "code",
   "execution_count": 34,
   "id": "3b14418c",
   "metadata": {},
   "outputs": [],
   "source": [
    "car_df['abcat']=le.fit_transform(car_df['abcat'])"
   ]
  },
  {
   "cell_type": "code",
   "execution_count": 35,
   "id": "0110d21f",
   "metadata": {},
   "outputs": [
    {
     "name": "stdout",
     "output_type": "stream",
     "text": [
      "<class 'pandas.core.frame.DataFrame'>\n",
      "RangeIndex: 17565 entries, 0 to 17564\n",
      "Data columns (total 15 columns):\n",
      " #   Column       Non-Null Count  Dtype  \n",
      "---  ------       --------------  -----  \n",
      " 0   dvcat        17565 non-null  int32  \n",
      " 1   weight       17565 non-null  float64\n",
      " 2   dead         17565 non-null  int64  \n",
      " 3   airbag       17565 non-null  int64  \n",
      " 4   seatbelt     17565 non-null  int64  \n",
      " 5   frontal      17565 non-null  int64  \n",
      " 6   sex          17565 non-null  int64  \n",
      " 7   ageOFocc     17565 non-null  int64  \n",
      " 8   yearacc      17565 non-null  int64  \n",
      " 9   yearVeh      17565 non-null  int64  \n",
      " 10  abcat        17565 non-null  int32  \n",
      " 11  occRole      17565 non-null  int64  \n",
      " 12  deploy       17565 non-null  int64  \n",
      " 13  caseid       17565 non-null  object \n",
      " 14  injSeverity  17565 non-null  int64  \n",
      "dtypes: float64(1), int32(2), int64(11), object(1)\n",
      "memory usage: 1.9+ MB\n"
     ]
    }
   ],
   "source": [
    "car_df.info()"
   ]
  },
  {
   "cell_type": "code",
   "execution_count": 36,
   "id": "aec9db0f",
   "metadata": {},
   "outputs": [],
   "source": [
    "car_df.drop(['caseid'],axis = 1,inplace= True)"
   ]
  },
  {
   "cell_type": "code",
   "execution_count": 37,
   "id": "1fe79477",
   "metadata": {},
   "outputs": [
    {
     "name": "stdout",
     "output_type": "stream",
     "text": [
      "<class 'pandas.core.frame.DataFrame'>\n",
      "RangeIndex: 17565 entries, 0 to 17564\n",
      "Data columns (total 14 columns):\n",
      " #   Column       Non-Null Count  Dtype  \n",
      "---  ------       --------------  -----  \n",
      " 0   dvcat        17565 non-null  int32  \n",
      " 1   weight       17565 non-null  float64\n",
      " 2   dead         17565 non-null  int64  \n",
      " 3   airbag       17565 non-null  int64  \n",
      " 4   seatbelt     17565 non-null  int64  \n",
      " 5   frontal      17565 non-null  int64  \n",
      " 6   sex          17565 non-null  int64  \n",
      " 7   ageOFocc     17565 non-null  int64  \n",
      " 8   yearacc      17565 non-null  int64  \n",
      " 9   yearVeh      17565 non-null  int64  \n",
      " 10  abcat        17565 non-null  int32  \n",
      " 11  occRole      17565 non-null  int64  \n",
      " 12  deploy       17565 non-null  int64  \n",
      " 13  injSeverity  17565 non-null  int64  \n",
      "dtypes: float64(1), int32(2), int64(11)\n",
      "memory usage: 1.7 MB\n"
     ]
    }
   ],
   "source": [
    "car_df.info()"
   ]
  },
  {
   "cell_type": "code",
   "execution_count": 38,
   "id": "6d59ebf6",
   "metadata": {},
   "outputs": [
    {
     "data": {
      "text/html": [
       "<div>\n",
       "<style scoped>\n",
       "    .dataframe tbody tr th:only-of-type {\n",
       "        vertical-align: middle;\n",
       "    }\n",
       "\n",
       "    .dataframe tbody tr th {\n",
       "        vertical-align: top;\n",
       "    }\n",
       "\n",
       "    .dataframe thead th {\n",
       "        text-align: right;\n",
       "    }\n",
       "</style>\n",
       "<table border=\"1\" class=\"dataframe\">\n",
       "  <thead>\n",
       "    <tr style=\"text-align: right;\">\n",
       "      <th></th>\n",
       "      <th>dvcat</th>\n",
       "      <th>weight</th>\n",
       "      <th>dead</th>\n",
       "      <th>airbag</th>\n",
       "      <th>seatbelt</th>\n",
       "      <th>frontal</th>\n",
       "      <th>sex</th>\n",
       "      <th>ageOFocc</th>\n",
       "      <th>yearacc</th>\n",
       "      <th>yearVeh</th>\n",
       "      <th>abcat</th>\n",
       "      <th>occRole</th>\n",
       "      <th>deploy</th>\n",
       "      <th>injSeverity</th>\n",
       "    </tr>\n",
       "  </thead>\n",
       "  <tbody>\n",
       "    <tr>\n",
       "      <th>dvcat</th>\n",
       "      <td>1.000000</td>\n",
       "      <td>-0.137768</td>\n",
       "      <td>-0.292350</td>\n",
       "      <td>0.134563</td>\n",
       "      <td>0.189864</td>\n",
       "      <td>0.083977</td>\n",
       "      <td>0.084626</td>\n",
       "      <td>-0.055675</td>\n",
       "      <td>-0.033676</td>\n",
       "      <td>-0.129078</td>\n",
       "      <td>0.045520</td>\n",
       "      <td>0.014119</td>\n",
       "      <td>0.056596</td>\n",
       "      <td>0.414581</td>\n",
       "    </tr>\n",
       "    <tr>\n",
       "      <th>weight</th>\n",
       "      <td>-0.137768</td>\n",
       "      <td>1.000000</td>\n",
       "      <td>0.058874</td>\n",
       "      <td>-0.004516</td>\n",
       "      <td>-0.074834</td>\n",
       "      <td>-0.011311</td>\n",
       "      <td>-0.021914</td>\n",
       "      <td>-0.026542</td>\n",
       "      <td>0.008976</td>\n",
       "      <td>-0.009341</td>\n",
       "      <td>0.027516</td>\n",
       "      <td>0.011292</td>\n",
       "      <td>-0.055878</td>\n",
       "      <td>-0.207602</td>\n",
       "    </tr>\n",
       "    <tr>\n",
       "      <th>dead</th>\n",
       "      <td>-0.292350</td>\n",
       "      <td>0.058874</td>\n",
       "      <td>1.000000</td>\n",
       "      <td>-0.046311</td>\n",
       "      <td>-0.135447</td>\n",
       "      <td>0.061246</td>\n",
       "      <td>-0.038270</td>\n",
       "      <td>-0.081112</td>\n",
       "      <td>0.018211</td>\n",
       "      <td>0.048016</td>\n",
       "      <td>-0.028445</td>\n",
       "      <td>0.011837</td>\n",
       "      <td>0.004271</td>\n",
       "      <td>-0.365362</td>\n",
       "    </tr>\n",
       "    <tr>\n",
       "      <th>airbag</th>\n",
       "      <td>0.134563</td>\n",
       "      <td>-0.004516</td>\n",
       "      <td>-0.046311</td>\n",
       "      <td>1.000000</td>\n",
       "      <td>0.155281</td>\n",
       "      <td>0.059725</td>\n",
       "      <td>0.090647</td>\n",
       "      <td>-0.053376</td>\n",
       "      <td>-0.204215</td>\n",
       "      <td>-0.754034</td>\n",
       "      <td>0.911503</td>\n",
       "      <td>-0.068721</td>\n",
       "      <td>-0.644749</td>\n",
       "      <td>0.077901</td>\n",
       "    </tr>\n",
       "    <tr>\n",
       "      <th>seatbelt</th>\n",
       "      <td>0.189864</td>\n",
       "      <td>-0.074834</td>\n",
       "      <td>-0.135447</td>\n",
       "      <td>0.155281</td>\n",
       "      <td>1.000000</td>\n",
       "      <td>0.065597</td>\n",
       "      <td>0.116786</td>\n",
       "      <td>-0.077830</td>\n",
       "      <td>-0.037617</td>\n",
       "      <td>-0.172551</td>\n",
       "      <td>0.117840</td>\n",
       "      <td>-0.057794</td>\n",
       "      <td>-0.056073</td>\n",
       "      <td>0.255129</td>\n",
       "    </tr>\n",
       "    <tr>\n",
       "      <th>frontal</th>\n",
       "      <td>0.083977</td>\n",
       "      <td>-0.011311</td>\n",
       "      <td>0.061246</td>\n",
       "      <td>0.059725</td>\n",
       "      <td>0.065597</td>\n",
       "      <td>1.000000</td>\n",
       "      <td>0.068650</td>\n",
       "      <td>-0.048092</td>\n",
       "      <td>0.017309</td>\n",
       "      <td>-0.022682</td>\n",
       "      <td>-0.094042</td>\n",
       "      <td>0.041212</td>\n",
       "      <td>0.237448</td>\n",
       "      <td>-0.019992</td>\n",
       "    </tr>\n",
       "    <tr>\n",
       "      <th>sex</th>\n",
       "      <td>0.084626</td>\n",
       "      <td>-0.021914</td>\n",
       "      <td>-0.038270</td>\n",
       "      <td>0.090647</td>\n",
       "      <td>0.116786</td>\n",
       "      <td>0.068650</td>\n",
       "      <td>1.000000</td>\n",
       "      <td>-0.048563</td>\n",
       "      <td>-0.006280</td>\n",
       "      <td>-0.100850</td>\n",
       "      <td>0.069982</td>\n",
       "      <td>0.103803</td>\n",
       "      <td>-0.034948</td>\n",
       "      <td>-0.037386</td>\n",
       "    </tr>\n",
       "    <tr>\n",
       "      <th>ageOFocc</th>\n",
       "      <td>-0.055675</td>\n",
       "      <td>-0.026542</td>\n",
       "      <td>-0.081112</td>\n",
       "      <td>-0.053376</td>\n",
       "      <td>-0.077830</td>\n",
       "      <td>-0.048092</td>\n",
       "      <td>-0.048563</td>\n",
       "      <td>1.000000</td>\n",
       "      <td>-0.006382</td>\n",
       "      <td>0.019544</td>\n",
       "      <td>-0.035864</td>\n",
       "      <td>0.063085</td>\n",
       "      <td>0.010647</td>\n",
       "      <td>0.086280</td>\n",
       "    </tr>\n",
       "    <tr>\n",
       "      <th>yearacc</th>\n",
       "      <td>-0.033676</td>\n",
       "      <td>0.008976</td>\n",
       "      <td>0.018211</td>\n",
       "      <td>-0.204215</td>\n",
       "      <td>-0.037617</td>\n",
       "      <td>0.017309</td>\n",
       "      <td>-0.006280</td>\n",
       "      <td>-0.006382</td>\n",
       "      <td>1.000000</td>\n",
       "      <td>0.297359</td>\n",
       "      <td>-0.180558</td>\n",
       "      <td>0.002007</td>\n",
       "      <td>0.121288</td>\n",
       "      <td>-0.038700</td>\n",
       "    </tr>\n",
       "    <tr>\n",
       "      <th>yearVeh</th>\n",
       "      <td>-0.129078</td>\n",
       "      <td>-0.009341</td>\n",
       "      <td>0.048016</td>\n",
       "      <td>-0.754034</td>\n",
       "      <td>-0.172551</td>\n",
       "      <td>-0.022682</td>\n",
       "      <td>-0.100850</td>\n",
       "      <td>0.019544</td>\n",
       "      <td>0.297359</td>\n",
       "      <td>1.000000</td>\n",
       "      <td>-0.685698</td>\n",
       "      <td>0.002606</td>\n",
       "      <td>0.483176</td>\n",
       "      <td>-0.075241</td>\n",
       "    </tr>\n",
       "    <tr>\n",
       "      <th>abcat</th>\n",
       "      <td>0.045520</td>\n",
       "      <td>0.027516</td>\n",
       "      <td>-0.028445</td>\n",
       "      <td>0.911503</td>\n",
       "      <td>0.117840</td>\n",
       "      <td>-0.094042</td>\n",
       "      <td>0.069982</td>\n",
       "      <td>-0.035864</td>\n",
       "      <td>-0.180558</td>\n",
       "      <td>-0.685698</td>\n",
       "      <td>1.000000</td>\n",
       "      <td>-0.082143</td>\n",
       "      <td>-0.902081</td>\n",
       "      <td>0.010192</td>\n",
       "    </tr>\n",
       "    <tr>\n",
       "      <th>occRole</th>\n",
       "      <td>0.014119</td>\n",
       "      <td>0.011292</td>\n",
       "      <td>0.011837</td>\n",
       "      <td>-0.068721</td>\n",
       "      <td>-0.057794</td>\n",
       "      <td>0.041212</td>\n",
       "      <td>0.103803</td>\n",
       "      <td>0.063085</td>\n",
       "      <td>0.002007</td>\n",
       "      <td>0.002606</td>\n",
       "      <td>-0.082143</td>\n",
       "      <td>1.000000</td>\n",
       "      <td>0.080556</td>\n",
       "      <td>0.002179</td>\n",
       "    </tr>\n",
       "    <tr>\n",
       "      <th>deploy</th>\n",
       "      <td>0.056596</td>\n",
       "      <td>-0.055878</td>\n",
       "      <td>0.004271</td>\n",
       "      <td>-0.644749</td>\n",
       "      <td>-0.056073</td>\n",
       "      <td>0.237448</td>\n",
       "      <td>-0.034948</td>\n",
       "      <td>0.010647</td>\n",
       "      <td>0.121288</td>\n",
       "      <td>0.483176</td>\n",
       "      <td>-0.902081</td>\n",
       "      <td>0.080556</td>\n",
       "      <td>1.000000</td>\n",
       "      <td>0.062800</td>\n",
       "    </tr>\n",
       "    <tr>\n",
       "      <th>injSeverity</th>\n",
       "      <td>0.414581</td>\n",
       "      <td>-0.207602</td>\n",
       "      <td>-0.365362</td>\n",
       "      <td>0.077901</td>\n",
       "      <td>0.255129</td>\n",
       "      <td>-0.019992</td>\n",
       "      <td>-0.037386</td>\n",
       "      <td>0.086280</td>\n",
       "      <td>-0.038700</td>\n",
       "      <td>-0.075241</td>\n",
       "      <td>0.010192</td>\n",
       "      <td>0.002179</td>\n",
       "      <td>0.062800</td>\n",
       "      <td>1.000000</td>\n",
       "    </tr>\n",
       "  </tbody>\n",
       "</table>\n",
       "</div>"
      ],
      "text/plain": [
       "                dvcat    weight      dead    airbag  seatbelt   frontal  \\\n",
       "dvcat        1.000000 -0.137768 -0.292350  0.134563  0.189864  0.083977   \n",
       "weight      -0.137768  1.000000  0.058874 -0.004516 -0.074834 -0.011311   \n",
       "dead        -0.292350  0.058874  1.000000 -0.046311 -0.135447  0.061246   \n",
       "airbag       0.134563 -0.004516 -0.046311  1.000000  0.155281  0.059725   \n",
       "seatbelt     0.189864 -0.074834 -0.135447  0.155281  1.000000  0.065597   \n",
       "frontal      0.083977 -0.011311  0.061246  0.059725  0.065597  1.000000   \n",
       "sex          0.084626 -0.021914 -0.038270  0.090647  0.116786  0.068650   \n",
       "ageOFocc    -0.055675 -0.026542 -0.081112 -0.053376 -0.077830 -0.048092   \n",
       "yearacc     -0.033676  0.008976  0.018211 -0.204215 -0.037617  0.017309   \n",
       "yearVeh     -0.129078 -0.009341  0.048016 -0.754034 -0.172551 -0.022682   \n",
       "abcat        0.045520  0.027516 -0.028445  0.911503  0.117840 -0.094042   \n",
       "occRole      0.014119  0.011292  0.011837 -0.068721 -0.057794  0.041212   \n",
       "deploy       0.056596 -0.055878  0.004271 -0.644749 -0.056073  0.237448   \n",
       "injSeverity  0.414581 -0.207602 -0.365362  0.077901  0.255129 -0.019992   \n",
       "\n",
       "                  sex  ageOFocc   yearacc   yearVeh     abcat   occRole  \\\n",
       "dvcat        0.084626 -0.055675 -0.033676 -0.129078  0.045520  0.014119   \n",
       "weight      -0.021914 -0.026542  0.008976 -0.009341  0.027516  0.011292   \n",
       "dead        -0.038270 -0.081112  0.018211  0.048016 -0.028445  0.011837   \n",
       "airbag       0.090647 -0.053376 -0.204215 -0.754034  0.911503 -0.068721   \n",
       "seatbelt     0.116786 -0.077830 -0.037617 -0.172551  0.117840 -0.057794   \n",
       "frontal      0.068650 -0.048092  0.017309 -0.022682 -0.094042  0.041212   \n",
       "sex          1.000000 -0.048563 -0.006280 -0.100850  0.069982  0.103803   \n",
       "ageOFocc    -0.048563  1.000000 -0.006382  0.019544 -0.035864  0.063085   \n",
       "yearacc     -0.006280 -0.006382  1.000000  0.297359 -0.180558  0.002007   \n",
       "yearVeh     -0.100850  0.019544  0.297359  1.000000 -0.685698  0.002606   \n",
       "abcat        0.069982 -0.035864 -0.180558 -0.685698  1.000000 -0.082143   \n",
       "occRole      0.103803  0.063085  0.002007  0.002606 -0.082143  1.000000   \n",
       "deploy      -0.034948  0.010647  0.121288  0.483176 -0.902081  0.080556   \n",
       "injSeverity -0.037386  0.086280 -0.038700 -0.075241  0.010192  0.002179   \n",
       "\n",
       "               deploy  injSeverity  \n",
       "dvcat        0.056596     0.414581  \n",
       "weight      -0.055878    -0.207602  \n",
       "dead         0.004271    -0.365362  \n",
       "airbag      -0.644749     0.077901  \n",
       "seatbelt    -0.056073     0.255129  \n",
       "frontal      0.237448    -0.019992  \n",
       "sex         -0.034948    -0.037386  \n",
       "ageOFocc     0.010647     0.086280  \n",
       "yearacc      0.121288    -0.038700  \n",
       "yearVeh      0.483176    -0.075241  \n",
       "abcat       -0.902081     0.010192  \n",
       "occRole      0.080556     0.002179  \n",
       "deploy       1.000000     0.062800  \n",
       "injSeverity  0.062800     1.000000  "
      ]
     },
     "execution_count": 38,
     "metadata": {},
     "output_type": "execute_result"
    }
   ],
   "source": [
    "car_df.corr()"
   ]
  },
  {
   "cell_type": "code",
   "execution_count": 39,
   "id": "ae4ff0f3",
   "metadata": {},
   "outputs": [],
   "source": [
    "import seaborn as sns\n",
    "import matplotlib.pyplot as plt"
   ]
  },
  {
   "cell_type": "code",
   "execution_count": 41,
   "id": "50303055",
   "metadata": {},
   "outputs": [
    {
     "data": {
      "image/png": "[encoded data removed]",
      "text/plain": [
       "<Figure size 2000x1000 with 2 Axes>"
      ]
     },
     "metadata": {},
     "output_type": "display_data"
    }
   ],
   "source": [
    "plt.figure(figsize=(20,10))\n",
    "sns.heatmap(car_df.corr(),annot = True);"
   ]
  },
  {
   "cell_type": "code",
   "execution_count": 42,
   "id": "7e24fbb0",
   "metadata": {},
   "outputs": [
    {
     "name": "stdout",
     "output_type": "stream",
     "text": [
      "<class 'pandas.core.frame.DataFrame'>\n",
      "RangeIndex: 17565 entries, 0 to 17564\n",
      "Data columns (total 14 columns):\n",
      " #   Column       Non-Null Count  Dtype  \n",
      "---  ------       --------------  -----  \n",
      " 0   dvcat        17565 non-null  int32  \n",
      " 1   weight       17565 non-null  float64\n",
      " 2   dead         17565 non-null  int64  \n",
      " 3   airbag       17565 non-null  int64  \n",
      " 4   seatbelt     17565 non-null  int64  \n",
      " 5   frontal      17565 non-null  int64  \n",
      " 6   sex          17565 non-null  int64  \n",
      " 7   ageOFocc     17565 non-null  int64  \n",
      " 8   yearacc      17565 non-null  int64  \n",
      " 9   yearVeh      17565 non-null  int64  \n",
      " 10  abcat        17565 non-null  int32  \n",
      " 11  occRole      17565 non-null  int64  \n",
      " 12  deploy       17565 non-null  int64  \n",
      " 13  injSeverity  17565 non-null  int64  \n",
      "dtypes: float64(1), int32(2), int64(11)\n",
      "memory usage: 1.7 MB\n"
     ]
    }
   ],
   "source": [
    "car_df.info()"
   ]
  },
  {
   "cell_type": "code",
   "execution_count": 43,
   "id": "65f938ce",
   "metadata": {},
   "outputs": [
    {
     "data": {
      "text/plain": [
       "Index(['dvcat', 'weight', 'dead', 'airbag', 'seatbelt', 'frontal', 'sex',\n",
       "       'ageOFocc', 'yearacc', 'yearVeh', 'abcat', 'occRole', 'deploy',\n",
       "       'injSeverity'],\n",
       "      dtype='object')"
      ]
     },
     "execution_count": 43,
     "metadata": {},
     "output_type": "execute_result"
    }
   ],
   "source": [
    "car_df.columns"
   ]
  },
  {
   "cell_type": "code",
   "execution_count": 44,
   "id": "61157f64",
   "metadata": {},
   "outputs": [
    {
     "data": {
      "text/html": [
       "<div>\n",
       "<style scoped>\n",
       "    .dataframe tbody tr th:only-of-type {\n",
       "        vertical-align: middle;\n",
       "    }\n",
       "\n",
       "    .dataframe tbody tr th {\n",
       "        vertical-align: top;\n",
       "    }\n",
       "\n",
       "    .dataframe thead th {\n",
       "        text-align: right;\n",
       "    }\n",
       "</style>\n",
       "<table border=\"1\" class=\"dataframe\">\n",
       "  <thead>\n",
       "    <tr style=\"text-align: right;\">\n",
       "      <th></th>\n",
       "      <th>dvcat</th>\n",
       "      <th>weight</th>\n",
       "      <th>dead</th>\n",
       "      <th>airbag</th>\n",
       "      <th>seatbelt</th>\n",
       "      <th>frontal</th>\n",
       "      <th>sex</th>\n",
       "      <th>ageOFocc</th>\n",
       "      <th>yearacc</th>\n",
       "      <th>yearVeh</th>\n",
       "      <th>abcat</th>\n",
       "      <th>occRole</th>\n",
       "      <th>deploy</th>\n",
       "      <th>injSeverity</th>\n",
       "    </tr>\n",
       "  </thead>\n",
       "  <tbody>\n",
       "    <tr>\n",
       "      <th>0</th>\n",
       "      <td>4</td>\n",
       "      <td>53.342</td>\n",
       "      <td>0</td>\n",
       "      <td>0</td>\n",
       "      <td>0</td>\n",
       "      <td>1</td>\n",
       "      <td>0</td>\n",
       "      <td>48</td>\n",
       "      <td>2002</td>\n",
       "      <td>1997</td>\n",
       "      <td>0</td>\n",
       "      <td>1</td>\n",
       "      <td>1</td>\n",
       "      <td>3</td>\n",
       "    </tr>\n",
       "    <tr>\n",
       "      <th>1</th>\n",
       "      <td>2</td>\n",
       "      <td>154.960</td>\n",
       "      <td>1</td>\n",
       "      <td>1</td>\n",
       "      <td>1</td>\n",
       "      <td>1</td>\n",
       "      <td>1</td>\n",
       "      <td>26</td>\n",
       "      <td>2001</td>\n",
       "      <td>1968</td>\n",
       "      <td>2</td>\n",
       "      <td>1</td>\n",
       "      <td>0</td>\n",
       "      <td>3</td>\n",
       "    </tr>\n",
       "    <tr>\n",
       "      <th>2</th>\n",
       "      <td>4</td>\n",
       "      <td>38.994</td>\n",
       "      <td>1</td>\n",
       "      <td>1</td>\n",
       "      <td>1</td>\n",
       "      <td>1</td>\n",
       "      <td>0</td>\n",
       "      <td>51</td>\n",
       "      <td>2002</td>\n",
       "      <td>1994</td>\n",
       "      <td>2</td>\n",
       "      <td>1</td>\n",
       "      <td>0</td>\n",
       "      <td>3</td>\n",
       "    </tr>\n",
       "    <tr>\n",
       "      <th>3</th>\n",
       "      <td>2</td>\n",
       "      <td>168.568</td>\n",
       "      <td>1</td>\n",
       "      <td>0</td>\n",
       "      <td>0</td>\n",
       "      <td>1</td>\n",
       "      <td>1</td>\n",
       "      <td>27</td>\n",
       "      <td>1998</td>\n",
       "      <td>1996</td>\n",
       "      <td>0</td>\n",
       "      <td>0</td>\n",
       "      <td>1</td>\n",
       "      <td>3</td>\n",
       "    </tr>\n",
       "    <tr>\n",
       "      <th>4</th>\n",
       "      <td>1</td>\n",
       "      <td>27.751</td>\n",
       "      <td>1</td>\n",
       "      <td>0</td>\n",
       "      <td>0</td>\n",
       "      <td>0</td>\n",
       "      <td>1</td>\n",
       "      <td>26</td>\n",
       "      <td>2002</td>\n",
       "      <td>1997</td>\n",
       "      <td>1</td>\n",
       "      <td>0</td>\n",
       "      <td>0</td>\n",
       "      <td>0</td>\n",
       "    </tr>\n",
       "  </tbody>\n",
       "</table>\n",
       "</div>"
      ],
      "text/plain": [
       "   dvcat   weight  dead  airbag  seatbelt  frontal  sex  ageOFocc  yearacc  \\\n",
       "0      4   53.342     0       0         0        1    0        48     2002   \n",
       "1      2  154.960     1       1         1        1    1        26     2001   \n",
       "2      4   38.994     1       1         1        1    0        51     2002   \n",
       "3      2  168.568     1       0         0        1    1        27     1998   \n",
       "4      1   27.751     1       0         0        0    1        26     2002   \n",
       "\n",
       "   yearVeh  abcat  occRole  deploy  injSeverity  \n",
       "0     1997      0        1       1            3  \n",
       "1     1968      2        1       0            3  \n",
       "2     1994      2        1       0            3  \n",
       "3     1996      0        0       1            3  \n",
       "4     1997      1        0       0            0  "
      ]
     },
     "execution_count": 44,
     "metadata": {},
     "output_type": "execute_result"
    }
   ],
   "source": [
    "car_df.head()"
   ]
  },
  {
   "cell_type": "code",
   "execution_count": 45,
   "id": "46e3062d",
   "metadata": {},
   "outputs": [],
   "source": [
    "X = car_df.drop(columns = ['dead'])\n",
    "y = car_df['dead']"
   ]
  },
  {
   "cell_type": "code",
   "execution_count": 46,
   "id": "5c93f5e7",
   "metadata": {},
   "outputs": [
    {
     "data": {
      "text/plain": [
       "(17565, 13)"
      ]
     },
     "execution_count": 46,
     "metadata": {},
     "output_type": "execute_result"
    }
   ],
   "source": [
    "X.shape"
   ]
  },
  {
   "cell_type": "code",
   "execution_count": 47,
   "id": "84d2aa8b",
   "metadata": {},
   "outputs": [
    {
     "data": {
      "text/plain": [
       "(17565,)"
      ]
     },
     "execution_count": 47,
     "metadata": {},
     "output_type": "execute_result"
    }
   ],
   "source": [
    "y.shape"
   ]
  },
  {
   "cell_type": "markdown",
   "id": "327d5665",
   "metadata": {},
   "source": [
    "# Train, Test, Split"
   ]
  },
  {
   "cell_type": "code",
   "execution_count": 48,
   "id": "00cb9800",
   "metadata": {},
   "outputs": [],
   "source": [
    "from sklearn.model_selection import train_test_split"
   ]
  },
  {
   "cell_type": "code",
   "execution_count": 49,
   "id": "282e608f",
   "metadata": {},
   "outputs": [],
   "source": [
    "X_train,X_test,y_train,y_test = train_test_split(X,y,test_size = 0.2, random_state = 1, stratify=y)"
   ]
  },
  {
   "cell_type": "markdown",
   "id": "6696aa77",
   "metadata": {},
   "source": [
    "# Logistic Regression"
   ]
  },
  {
   "cell_type": "code",
   "execution_count": 50,
   "id": "dd5e11d5",
   "metadata": {},
   "outputs": [],
   "source": [
    "from sklearn.linear_model import LogisticRegression"
   ]
  },
  {
   "cell_type": "code",
   "execution_count": 75,
   "id": "02cdb38b",
   "metadata": {
    "scrolled": true
   },
   "outputs": [
    {
     "name": "stdout",
     "output_type": "stream",
     "text": [
      "CPU times: total: 641 ms\n",
      "Wall time: 171 ms\n"
     ]
    },
    {
     "data": {
      "text/html": [
       "<style>#sk-container-id-8 {color: black;background-color: white;}#sk-container-id-8 pre{padding: 0;}#sk-container-id-8 div.sk-toggleable {background-color: white;}#sk-container-id-8 label.sk-toggleable__label {cursor: pointer;display: block;width: 100%;margin-bottom: 0;padding: 0.3em;box-sizing: border-box;text-align: center;}#sk-container-id-8 label.sk-toggleable__label-arrow:before {content: \"▸\";float: left;margin-right: 0.25em;color: #696969;}#sk-container-id-8 label.sk-toggleable__label-arrow:hover:before {color: black;}#sk-container-id-8 div.sk-estimator:hover label.sk-toggleable__label-arrow:before {color: black;}#sk-container-id-8 div.sk-toggleable__content {max-height: 0;max-width: 0;overflow: hidden;text-align: left;background-color: #f0f8ff;}#sk-container-id-8 div.sk-toggleable__content pre {margin: 0.2em;color: black;border-radius: 0.25em;background-color: #f0f8ff;}#sk-container-id-8 input.sk-toggleable__control:checked~div.sk-toggleable__content {max-height: 200px;max-width: 100%;overflow: auto;}#sk-container-id-8 input.sk-toggleable__control:checked~label.sk-toggleable__label-arrow:before {content: \"▾\";}#sk-container-id-8 div.sk-estimator input.sk-toggleable__control:checked~label.sk-toggleable__label {background-color: #d4ebff;}#sk-container-id-8 div.sk-label input.sk-toggleable__control:checked~label.sk-toggleable__label {background-color: #d4ebff;}#sk-container-id-8 input.sk-hidden--visually {border: 0;clip: rect(1px 1px 1px 1px);clip: rect(1px, 1px, 1px, 1px);height: 1px;margin: -1px;overflow: hidden;padding: 0;position: absolute;width: 1px;}#sk-container-id-8 div.sk-estimator {font-family: monospace;background-color: #f0f8ff;border: 1px dotted black;border-radius: 0.25em;box-sizing: border-box;margin-bottom: 0.5em;}#sk-container-id-8 div.sk-estimator:hover {background-color: #d4ebff;}#sk-container-id-8 div.sk-parallel-item::after {content: \"\";width: 100%;border-bottom: 1px solid gray;flex-grow: 1;}#sk-container-id-8 div.sk-label:hover label.sk-toggleable__label {background-color: #d4ebff;}#sk-container-id-8 div.sk-serial::before {content: \"\";position: absolute;border-left: 1px solid gray;box-sizing: border-box;top: 0;bottom: 0;left: 50%;z-index: 0;}#sk-container-id-8 div.sk-serial {display: flex;flex-direction: column;align-items: center;background-color: white;padding-right: 0.2em;padding-left: 0.2em;position: relative;}#sk-container-id-8 div.sk-item {position: relative;z-index: 1;}#sk-container-id-8 div.sk-parallel {display: flex;align-items: stretch;justify-content: center;background-color: white;position: relative;}#sk-container-id-8 div.sk-item::before, #sk-container-id-8 div.sk-parallel-item::before {content: \"\";position: absolute;border-left: 1px solid gray;box-sizing: border-box;top: 0;bottom: 0;left: 50%;z-index: -1;}#sk-container-id-8 div.sk-parallel-item {display: flex;flex-direction: column;z-index: 1;position: relative;background-color: white;}#sk-container-id-8 div.sk-parallel-item:first-child::after {align-self: flex-end;width: 50%;}#sk-container-id-8 div.sk-parallel-item:last-child::after {align-self: flex-start;width: 50%;}#sk-container-id-8 div.sk-parallel-item:only-child::after {width: 0;}#sk-container-id-8 div.sk-dashed-wrapped {border: 1px dashed gray;margin: 0 0.4em 0.5em 0.4em;box-sizing: border-box;padding-bottom: 0.4em;background-color: white;}#sk-container-id-8 div.sk-label label {font-family: monospace;font-weight: bold;display: inline-block;line-height: 1.2em;}#sk-container-id-8 div.sk-label-container {text-align: center;}#sk-container-id-8 div.sk-container {/* jupyter's `normalize.less` sets `[hidden] { display: none; }` but bootstrap.min.css set `[hidden] { display: none !important; }` so we also need the `!important` here to be able to override the default hidden behavior on the sphinx rendered scikit-learn.org. See: https://github.com/scikit-learn/scikit-learn/issues/21755 */display: inline-block !important;position: relative;}#sk-container-id-8 div.sk-text-repr-fallback {display: none;}</style><div id=\"sk-container-id-8\" class=\"sk-top-container\"><div class=\"sk-text-repr-fallback\"><pre>LogisticRegression(max_iter=200)</pre><b>In a Jupyter environment, please rerun this cell to show the HTML representation or trust the notebook. <br />On GitHub, the HTML representation is unable to render, please try loading this page with nbviewer.org.</b></div><div class=\"sk-container\" hidden><div class=\"sk-item\"><div class=\"sk-estimator sk-toggleable\"><input class=\"sk-toggleable__control sk-hidden--visually\" id=\"sk-estimator-id-8\" type=\"checkbox\" checked><label for=\"sk-estimator-id-8\" class=\"sk-toggleable__label sk-toggleable__label-arrow\">LogisticRegression</label><div class=\"sk-toggleable__content\"><pre>LogisticRegression(max_iter=200)</pre></div></div></div></div></div>"
      ],
      "text/plain": [
       "LogisticRegression(max_iter=200)"
      ]
     },
     "execution_count": 75,
     "metadata": {},
     "output_type": "execute_result"
    }
   ],
   "source": [
    "%%time\n",
    "logreg = LogisticRegression(solver='lbfgs', max_iter=200)\n",
    "model = logreg.fit(X_train,y_train)\n",
    "model"
   ]
  },
  {
   "cell_type": "code",
   "execution_count": 66,
   "id": "6bea153d",
   "metadata": {},
   "outputs": [
    {
     "data": {
      "text/plain": [
       "array([1, 1, 1, 1, 1, 1, 1, 1, 1, 1], dtype=int64)"
      ]
     },
     "execution_count": 66,
     "metadata": {},
     "output_type": "execute_result"
    }
   ],
   "source": [
    "y_pred_logreg = model.predict(X_test)\n",
    "y_pred_logreg[0:10]"
   ]
  },
  {
   "cell_type": "code",
   "execution_count": 67,
   "id": "4913c76c",
   "metadata": {},
   "outputs": [
    {
     "data": {
      "text/plain": [
       "417      1\n",
       "10671    1\n",
       "12931    1\n",
       "2815     1\n",
       "3900     1\n",
       "16787    1\n",
       "9690     1\n",
       "12809    1\n",
       "14196    1\n",
       "2280     1\n",
       "Name: dead, dtype: int64"
      ]
     },
     "execution_count": 67,
     "metadata": {},
     "output_type": "execute_result"
    }
   ],
   "source": [
    "y_test[:10]"
   ]
  },
  {
   "cell_type": "markdown",
   "id": "7c49f46f",
   "metadata": {},
   "source": [
    "# Accuracy Score, Confusion Matrix, Classification Report, Precision Score"
   ]
  },
  {
   "cell_type": "code",
   "execution_count": 68,
   "id": "cfddf1a2",
   "metadata": {},
   "outputs": [],
   "source": [
    "from sklearn.metrics import accuracy_score, confusion_matrix, classification_report, precision_score"
   ]
  },
  {
   "cell_type": "code",
   "execution_count": 69,
   "id": "cf6560e5",
   "metadata": {},
   "outputs": [
    {
     "data": {
      "text/plain": [
       "0.9874750925135212"
      ]
     },
     "execution_count": 69,
     "metadata": {},
     "output_type": "execute_result"
    }
   ],
   "source": [
    "accuracy_score(y_test,y_pred_logreg)"
   ]
  },
  {
   "cell_type": "code",
   "execution_count": 70,
   "id": "48e4cdce",
   "metadata": {},
   "outputs": [
    {
     "name": "stdout",
     "output_type": "stream",
     "text": [
      "              precision    recall  f1-score   support\n",
      "\n",
      "           0       0.91      0.80      0.85       155\n",
      "           1       0.99      1.00      0.99      3358\n",
      "\n",
      "    accuracy                           0.99      3513\n",
      "   macro avg       0.95      0.90      0.92      3513\n",
      "weighted avg       0.99      0.99      0.99      3513\n",
      "\n"
     ]
    }
   ],
   "source": [
    "print(classification_report(y_test,y_pred_logreg))"
   ]
  },
  {
   "cell_type": "code",
   "execution_count": 71,
   "id": "f29e6bd7",
   "metadata": {},
   "outputs": [
    {
     "data": {
      "text/plain": [
       "array([[ 124,   31],\n",
       "       [  13, 3345]], dtype=int64)"
      ]
     },
     "execution_count": 71,
     "metadata": {},
     "output_type": "execute_result"
    }
   ],
   "source": [
    "confusion_matrix(y_test,y_pred_logreg)"
   ]
  },
  {
   "cell_type": "code",
   "execution_count": 72,
   "id": "6a10b052",
   "metadata": {},
   "outputs": [
    {
     "data": {
      "text/plain": [
       "0.9908175355450237"
      ]
     },
     "execution_count": 72,
     "metadata": {},
     "output_type": "execute_result"
    }
   ],
   "source": [
    "precision_logreg = precision_score(y_test,y_pred_logreg)\n",
    "precision_logreg"
   ]
  },
  {
   "cell_type": "code",
   "execution_count": null,
   "id": "1c2f3341",
   "metadata": {},
   "outputs": [],
   "source": []
  }
 ],
 "metadata": {
  "kernelspec": {
   "display_name": "Python 3 (ipykernel)",
   "language": "python",
   "name": "python3"
  },
  "language_info": {
   "codemirror_mode": {
    "name": "ipython",
    "version": 3
   },
   "file_extension": ".py",
   "mimetype": "text/x-python",
   "name": "python",
   "nbconvert_exporter": "python",
   "pygments_lexer": "ipython3",
   "version": "3.10.9"
  }
 },
 "nbformat": 4,
 "nbformat_minor": 5
}
